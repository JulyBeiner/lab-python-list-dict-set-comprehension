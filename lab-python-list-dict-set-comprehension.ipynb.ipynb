{
  "cells": [
    {
      "cell_type": "code",
      "execution_count": 12,
      "id": "f0a43a85-f096-4f8d-a134-68dfc87bf2a2",
      "metadata": {
        "id": "f0a43a85-f096-4f8d-a134-68dfc87bf2a2"
      },
      "outputs": [],
      "source": [
        "products = [\"t-shirt\", \"mug\", \"hat\", \"book\", \"keychain\"]"
      ]
    },
    {
      "cell_type": "code",
      "execution_count": 13,
      "id": "1072b0c7-f0fd-42f1-a06f-8cf70ddb367c",
      "metadata": {
        "id": "1072b0c7-f0fd-42f1-a06f-8cf70ddb367c"
      },
      "outputs": [],
      "source": [
        "def initialize_inventory(products):\n",
        "    return {product: int(input(f\"Enter the quantity of {product}s available: \")) for product in products}"
      ]
    },
    {
      "cell_type": "code",
      "execution_count": 14,
      "id": "0f498bf2-3639-4ee4-b983-2c5c68f6bc99",
      "metadata": {
        "colab": {
          "base_uri": "https://localhost:8080/"
        },
        "id": "0f498bf2-3639-4ee4-b983-2c5c68f6bc99",
        "outputId": "8f71f5a7-02ef-45e1-abed-ae1de0d2c365"
      },
      "outputs": [
        {
          "name": "stdout",
          "output_type": "stream",
          "text": [
            "Enter the quantity of t-shirts available: 5\n",
            "Enter the quantity of mugs available: 4\n",
            "Enter the quantity of hats available: 3\n",
            "Enter the quantity of books available: 2\n",
            "Enter the quantity of keychains available: 1\n"
          ]
        }
      ],
      "source": [
        "inventory = initialize_inventory(products)"
      ]
    },
    {
      "cell_type": "code",
      "execution_count": 8,
      "id": "8db4e839-cae4-48cc-bfd6-30396891bcf4",
      "metadata": {
        "id": "8db4e839-cae4-48cc-bfd6-30396891bcf4"
      },
      "outputs": [],
      "source": [
        "def get_customer_orders():\n",
        "    number_orders = int(input(\"Enter the number of customer orders: \"))\n",
        "    customer_orders = [input('Enter the name of a product that a customer wants to order ') for i in range(number_orders)]\n",
        "    return customer_orders\n"
      ]
    },
    {
      "cell_type": "code",
      "execution_count": 9,
      "id": "4f214072-8031-47c8-8567-9e940958eb66",
      "metadata": {
        "colab": {
          "base_uri": "https://localhost:8080/"
        },
        "id": "4f214072-8031-47c8-8567-9e940958eb66",
        "outputId": "240de51a-fb88-446f-99d4-425ef29ead66"
      },
      "outputs": [
        {
          "name": "stdout",
          "output_type": "stream",
          "text": [
            "Enter the number of customer orders: 2\n",
            "Enter the name of a product that a customer wants to order hat\n",
            "Enter the name of a product that a customer wants to order keychain\n"
          ]
        }
      ],
      "source": [
        "customer_orders = get_customer_orders()"
      ]
    },
    {
      "cell_type": "code",
      "source": [
        "customer_orders"
      ],
      "metadata": {
        "colab": {
          "base_uri": "https://localhost:8080/"
        },
        "id": "-PvVHsPBO9iV",
        "outputId": "81bc71dc-c55b-48d3-d184-ab71ea6dea46"
      },
      "id": "-PvVHsPBO9iV",
      "execution_count": 10,
      "outputs": [
        {
          "output_type": "execute_result",
          "data": {
            "text/plain": [
              "['hat', 'keychain']"
            ]
          },
          "metadata": {},
          "execution_count": 10
        }
      ]
    },
    {
      "cell_type": "code",
      "execution_count": 11,
      "id": "dfc38f05-3550-40c7-b95c-0ba2d85d5de7",
      "metadata": {
        "colab": {
          "base_uri": "https://localhost:8080/"
        },
        "id": "dfc38f05-3550-40c7-b95c-0ba2d85d5de7",
        "outputId": "d526033c-fd3a-40d0-ebd8-6d6ba6978c35"
      },
      "outputs": [
        {
          "output_type": "stream",
          "name": "stdout",
          "text": [
            "Enter the price of hat: 5\n",
            "Enter the price of keychain: 10\n",
            "Total Price: 15\n"
          ]
        }
      ],
      "source": [
        "# Question 3\n",
        "def price(customer_order):\n",
        "  prices = [int(input(f\"Enter the price of {product}: \")) for product in customer_orders]\n",
        "  total_price = sum(prices)\n",
        "  return total_price\n",
        "\n",
        "print(f\"Total Price: {price(customer_orders)}\")"
      ]
    },
    {
      "cell_type": "code",
      "execution_count": 18,
      "id": "5275d79d-eb7b-46c5-a41d-93a98ce2ef06",
      "metadata": {
        "colab": {
          "base_uri": "https://localhost:8080/"
        },
        "id": "5275d79d-eb7b-46c5-a41d-93a98ce2ef06",
        "outputId": "27efc93c-3cd2-4428-9b3d-35b0b7363d91"
      },
      "outputs": [
        {
          "output_type": "execute_result",
          "data": {
            "text/plain": [
              "{'t-shirt': 5, 'mug': 4, 'hat': 2, 'book': 2}"
            ]
          },
          "metadata": {},
          "execution_count": 18
        }
      ],
      "source": [
        "# Question 4\n",
        "def update_inventory(inventory, customer_order):\n",
        "  new_inventory = {k: (v-1 if k in customer_order else v) for k, v in inventory.items()}\n",
        "  clean_inventory = {k:v for k,v in new_inventory.items() if v != 0}\n",
        "  return clean_inventory\n",
        "\n",
        "update_inventory(inventory, customer_orders)"
      ]
    },
    {
      "cell_type": "code",
      "execution_count": null,
      "id": "1beb0bae-6d36-4110-b944-bed5919cbf8d",
      "metadata": {
        "id": "1beb0bae-6d36-4110-b944-bed5919cbf8d"
      },
      "outputs": [],
      "source": []
    }
  ],
  "metadata": {
    "kernelspec": {
      "display_name": "Python 3 (ipykernel)",
      "language": "python",
      "name": "python3"
    },
    "language_info": {
      "codemirror_mode": {
        "name": "ipython",
        "version": 3
      },
      "file_extension": ".py",
      "mimetype": "text/x-python",
      "name": "python",
      "nbconvert_exporter": "python",
      "pygments_lexer": "ipython3",
      "version": "3.12.4"
    },
    "colab": {
      "provenance": []
    }
  },
  "nbformat": 4,
  "nbformat_minor": 5
}